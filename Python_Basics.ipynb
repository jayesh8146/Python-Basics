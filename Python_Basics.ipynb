{
  "nbformat": 4,
  "nbformat_minor": 0,
  "metadata": {
    "colab": {
      "provenance": []
    },
    "kernelspec": {
      "name": "python3",
      "display_name": "Python 3"
    },
    "language_info": {
      "name": "python"
    }
  },
  "cells": [
    {
      "cell_type": "markdown",
      "source": [
        "Python Basics\n",
        "\n",
        "\n",
        "\n",
        "1. What is Python, and why is it popular?\n",
        "--> Python is a high-level programming language known for its simplicity and readability. It’s popular because it has a vast community, extensive libraries, and frameworks that make it suitable for various applications, from web development to data analysis and artificial intelligence.\n",
        "\n",
        "2. What is an interpreter in Python?\n",
        "--> An interpreter in Python is a program that executes Python code line by line. Unlike compiled languages, where the entire code is translated into machine code before execution, Python interpreters allow for immediate execution, which makes debugging easier and speeds up the development process.\n",
        "\n",
        "3. What are pre-defined keywords in Python?\n",
        "--> Pre-defined keywords in Python are reserved words that have special meanings and cannot be used as identifiers (like variable names). Examples include if, else, for, while, and def. These keywords help define the structure and flow of the program.\n",
        "\n",
        "4. Can keywords be used as variable names?\n",
        "--> No, keywords cannot be used as variable names in Python. Since they have specific functions in the language, using them as identifiers would lead to confusion and errors in the code.\n",
        "\n",
        "5. What is mutability in Python?\n",
        "--> Mutability refers to the ability of an object to be changed after it has been created. In Python, mutable objects can be modified, while immutable objects cannot be changed once they are created.\n",
        "\n",
        "6. Why are lists mutable, but tuples are immutable?\n",
        "--> Lists are designed to be mutable so that we can easily add, remove, or change elements. Tuples, on the other hand, are immutable to provide a fixed structure, which can be beneficial for ensuring data integrity and for use as keys in dictionaries.\n",
        "\n",
        "7. What is the difference between \"is\" and \"==\" operators in Python?\n",
        "--> The is operator checks for identity, meaning it checks whether two variables point to the same object in memory. The == operator checks for equality, meaning it checks whether the values of two objects are the same, regardless of whether they are the same object in memory.\n",
        "\n",
        "8. What are logical operators in Python?\n",
        "--> Logical operators in Python are used to combine conditional statements. The main logical operators are and, or, and not. They help in forming complex conditions by evaluating the truthiness of multiple expressions.\n",
        "\n",
        "9. What is type casting in Python?\n",
        "--> Type casting is the process of converting one data type into another. In Python, we can explicitly convert types using functions like int(), float(), and str(), allowing us to manipulate data in the desired format.\n",
        "\n",
        "10. What is the difference between implicit and explicit type casting?\n",
        "--> Implicit type casting, also known as coercion, happens automatically when Python converts one data type to another without any user intervention, like converting an integer to a float in an arithmetic operation. Explicit type casting requires the programmer to specify the conversion, such as using int() to convert a string to an integer.\n",
        "\n",
        "11. What is the purpose of conditional statements in Python?\n",
        "--> Conditional statements allow us to execute certain blocks of code based on specific conditions. They help in controlling the flow of the program, enabling different outcomes based on varying inputs or states.\n",
        "\n",
        "12. How does the elif statement work?\n",
        "--> The elif statement stands for \"else if\" and is used to check multiple conditions in a sequence. If the initial if condition is false, Python checks the elif conditions one by one until it finds one that is true or reaches the end of the chain.\n",
        "\n",
        "13. What is the difference between for and while loops?\n",
        "--> A for loop is used to iterate over a sequence (like a list or a range), executing a block of code for each item. A while loop continues to execute as long as a specified condition is true, making it more suitable for situations where the number of iterations is not known in advance.\n",
        "\n",
        "14. Describe a scenario where a while loop is more suitable than a for loop.\n",
        "--> A while loop is more suitable in scenarios where we need to keep asking for user input until they provide a valid response. For example, if we want to keep prompting a user to enter a password until they enter the correct one, a while loop would be ideal since we don’t know how many attempts it might take.\n",
        "\n"
      ],
      "metadata": {
        "id": "ohkhcepf_Spg"
      }
    },
    {
      "cell_type": "code",
      "source": [
        "# 1. Write a Python program to print \"Hello, World!\"\n",
        "print(\"Hello, World!\")"
      ],
      "metadata": {
        "colab": {
          "base_uri": "https://localhost:8080/"
        },
        "id": "XhZAzAxHAnr4",
        "outputId": "f3469f1c-97ef-437a-afa6-7eee8b1ea9c1"
      },
      "execution_count": 2,
      "outputs": [
        {
          "output_type": "stream",
          "name": "stdout",
          "text": [
            "Hello, World!\n"
          ]
        }
      ]
    },
    {
      "cell_type": "code",
      "source": [
        "# 2. Write a Python program that displays your name and age.\n",
        "name = \"Jayesh\"\n",
        "age = \"24\"\n",
        "print(name)\n",
        "print(age)"
      ],
      "metadata": {
        "colab": {
          "base_uri": "https://localhost:8080/"
        },
        "id": "4j9w7RUNA6KX",
        "outputId": "2c7547ca-a3e3-4619-a48d-20afec34646e"
      },
      "execution_count": 5,
      "outputs": [
        {
          "output_type": "stream",
          "name": "stdout",
          "text": [
            "Jayesh\n",
            "24\n"
          ]
        }
      ]
    },
    {
      "cell_type": "code",
      "source": [
        "# 3. Write code to print all the pre-defined keywords in Python using the\n",
        "import keyword  # Import the keyword module\n",
        "print(keyword.kwlist)"
      ],
      "metadata": {
        "colab": {
          "base_uri": "https://localhost:8080/"
        },
        "id": "qr2g6XRsBIT0",
        "outputId": "89f4b8a8-8a47-4cee-ea05-dff124953d1c"
      },
      "execution_count": 6,
      "outputs": [
        {
          "output_type": "stream",
          "name": "stdout",
          "text": [
            "['False', 'None', 'True', 'and', 'as', 'assert', 'async', 'await', 'break', 'class', 'continue', 'def', 'del', 'elif', 'else', 'except', 'finally', 'for', 'from', 'global', 'if', 'import', 'in', 'is', 'lambda', 'nonlocal', 'not', 'or', 'pass', 'raise', 'return', 'try', 'while', 'with', 'yield']\n"
          ]
        }
      ]
    },
    {
      "cell_type": "code",
      "source": [
        "# 4. Write a program that checks if a given word is a Python keyword.\n",
        "a = \"mumbai\"\n",
        "keyword.iskeyword(\"mumbai\")"
      ],
      "metadata": {
        "colab": {
          "base_uri": "https://localhost:8080/"
        },
        "id": "8W8tk7AZCwQL",
        "outputId": "a24772a4-cdf7-4bee-dd99-1c4f319b34e1"
      },
      "execution_count": 7,
      "outputs": [
        {
          "output_type": "execute_result",
          "data": {
            "text/plain": [
              "False"
            ]
          },
          "metadata": {},
          "execution_count": 7
        }
      ]
    },
    {
      "cell_type": "code",
      "source": [
        "# 5. Create a list and tuple in Python, and demonstrate how attempting to change an element works differently for each.\n",
        "my_list = [1, 2, 3]\n",
        "my_tuple = (1, 2, 3)\n",
        "print(\"Original list:\", my_list)\n",
        "my_list[0] = 10\n",
        "print(\"Modified list:\", my_list)"
      ],
      "metadata": {
        "colab": {
          "base_uri": "https://localhost:8080/"
        },
        "id": "3gIbKXywC81m",
        "outputId": "2dcb7c77-91d3-4958-beda-b4ed4bc0e190"
      },
      "execution_count": 8,
      "outputs": [
        {
          "output_type": "stream",
          "name": "stdout",
          "text": [
            "Original list: [1, 2, 3]\n",
            "Modified list: [10, 2, 3]\n"
          ]
        }
      ]
    },
    {
      "cell_type": "code",
      "source": [
        "print(\"Original tuple:\", my_tuple)\n",
        "try:\n",
        "    my_tuple[0] = 10  # This will raise an error\n",
        "except TypeError as e:\n",
        "    print(\"Error:\", e)"
      ],
      "metadata": {
        "colab": {
          "base_uri": "https://localhost:8080/"
        },
        "id": "86cyJj0tDHqK",
        "outputId": "6b716b42-95f5-4be3-ad9f-dd627d4dc7fb"
      },
      "execution_count": 9,
      "outputs": [
        {
          "output_type": "stream",
          "name": "stdout",
          "text": [
            "Original tuple: (1, 2, 3)\n",
            "Error: 'tuple' object does not support item assignment\n"
          ]
        }
      ]
    },
    {
      "cell_type": "code",
      "source": [
        "# 6. Write a function to demonstrate the behavior of mutable and immutable arguments.\n",
        "def modify_list(lst):\n",
        "    lst.append(4)\n",
        "\n",
        "my_list = [1, 2, 3]\n",
        "modify_list(my_list)\n",
        "print(my_list)"
      ],
      "metadata": {
        "colab": {
          "base_uri": "https://localhost:8080/"
        },
        "id": "XnBqNYVDEYxa",
        "outputId": "48dfc7bb-ed7a-4d7c-cb66-2d71790b821e"
      },
      "execution_count": 10,
      "outputs": [
        {
          "output_type": "stream",
          "name": "stdout",
          "text": [
            "[1, 2, 3, 4]\n"
          ]
        }
      ]
    },
    {
      "cell_type": "code",
      "source": [
        "# 7. This is a duplicate question similar to 6th question."
      ],
      "metadata": {
        "id": "OJMPHcL2E3me"
      },
      "execution_count": null,
      "outputs": []
    },
    {
      "cell_type": "code",
      "source": [
        "# 8. Write a program to demonstrate the use of logical operators.\n",
        "a = True\n",
        "b = False\n",
        "print(\"Logical AND:\", a and b)\n",
        "print(\"Logical OR:\", a or b)\n",
        "print(\"Logical NOT:\", not a)"
      ],
      "metadata": {
        "colab": {
          "base_uri": "https://localhost:8080/"
        },
        "id": "WSureQG7E91S",
        "outputId": "c9d52758-749b-4e28-87ce-625dfee99a8f"
      },
      "execution_count": 11,
      "outputs": [
        {
          "output_type": "stream",
          "name": "stdout",
          "text": [
            "Logical AND: False\n",
            "Logical OR: True\n",
            "Logical NOT: False\n"
          ]
        }
      ]
    },
    {
      "cell_type": "code",
      "source": [
        "# 9. Write a Python program to convert user input from string to integer, float, and boolean types.\n",
        "user_input = input(\"Enter a value: \")\n",
        "integer_value = int(user_input)\n",
        "float_value = float(user_input)\n",
        "boolean_value = bool(user_input)"
      ],
      "metadata": {
        "colab": {
          "base_uri": "https://localhost:8080/"
        },
        "id": "zRDmw6S6FeOz",
        "outputId": "f5c576f9-1f76-4801-e8b5-1c36b427806e"
      },
      "execution_count": 23,
      "outputs": [
        {
          "name": "stdout",
          "output_type": "stream",
          "text": [
            "Enter a value: 42\n"
          ]
        }
      ]
    },
    {
      "cell_type": "code",
      "source": [
        "# 10. Write code to demonstrate type casting with list elements.\n",
        "my_list = [\"1\", \"2\", \"3\",\"2.5\"]\n",
        "integer_list = [int(2) for element in my_list]\n",
        "float_list = [float(2.5) for element in my_list]"
      ],
      "metadata": {
        "id": "gVlMnQFdGUyp"
      },
      "execution_count": 16,
      "outputs": []
    },
    {
      "cell_type": "code",
      "source": [
        "# 12. Write a for loop to print numbers from 1 to 10.\n",
        "for i in range(1, 11):\n",
        "    print(i)"
      ],
      "metadata": {
        "colab": {
          "base_uri": "https://localhost:8080/"
        },
        "id": "3PRlfSUZGafN",
        "outputId": "dbe674bb-2868-401c-c9e6-4d1bf9d49a9a"
      },
      "execution_count": 17,
      "outputs": [
        {
          "output_type": "stream",
          "name": "stdout",
          "text": [
            "1\n",
            "2\n",
            "3\n",
            "4\n",
            "5\n",
            "6\n",
            "7\n",
            "8\n",
            "9\n",
            "10\n"
          ]
        }
      ]
    },
    {
      "cell_type": "code",
      "source": [
        "# 13. Write a Python program to find the sum of all even numbers between 1 and 50.\n",
        "sum_of_even = 0\n",
        "for number in range(1, 51):\n",
        "    if number % 2 == 0:\n",
        "        sum_of_even += number"
      ],
      "metadata": {
        "id": "KIhsvUN-Gevf"
      },
      "execution_count": 18,
      "outputs": []
    },
    {
      "cell_type": "code",
      "source": [
        "# 14. Write a program to reverse a string using a while loop.\n",
        "input_string = \"Ashish\"\n",
        "reversed_string = \"\"\n",
        "index = len(input_string) - 1\n",
        "while index >= 0:\n",
        "    reversed_string += input_string[index]\n",
        "    index -= 1"
      ],
      "metadata": {
        "id": "lU7dAjQUGi_e"
      },
      "execution_count": 19,
      "outputs": []
    },
    {
      "cell_type": "code",
      "source": [
        "# 15. Write a Python program to calculate the factorial of a number provided by the user using a while loop.\n",
        "num = int(input(\"Enter a number to calculate its factorial: \"))\n",
        "factorial = 1\n",
        "current = 1\n",
        "while current <= num:\n",
        "    factorial *= current\n",
        "    current += 1"
      ],
      "metadata": {
        "colab": {
          "base_uri": "https://localhost:8080/"
        },
        "id": "rHGRqCe1GluD",
        "outputId": "59d8b4c1-97f5-4d97-9b6a-4649afd75777"
      },
      "execution_count": 21,
      "outputs": [
        {
          "name": "stdout",
          "output_type": "stream",
          "text": [
            "Enter a number to calculate its factorial: 2\n"
          ]
        }
      ]
    }
  ]
}